{
  "cells": [
    {
      "cell_type": "raw",
      "metadata": {},
      "source": [
        "---\n",
        "title: 'Lab 4: House Elevation NPV Analysis'\n",
        "author: Anna Delesalle\n",
        "date: '2024-02-08'\n",
        "week: 5\n",
        "categories:\n",
        "  - Lab\n",
        "format:\n",
        "  html: default\n",
        "  docx:\n",
        "    toc: true\n",
        "    fig-format: png\n",
        "    number-sections: true\n",
        "    code-line-numbers: true\n",
        "execute:\n",
        "  cache: true\n",
        "  freeze: true\n",
        "date-format: 'ddd., MMM. D'\n",
        "bibliography: references.bib\n",
        "---"
      ],
      "id": "003a6ed0"
    },
    {
      "cell_type": "code",
      "metadata": {},
      "source": [
        "#| output: false\n",
        "using CSV\n",
        "using DataFrames\n",
        "using DataFramesMeta\n",
        "using Distributions\n",
        "using Interpolations\n",
        "using Plots\n",
        "using StatsPlots\n",
        "using Unitful\n",
        "\n",
        "Plots.default(; margin=6Plots.mm)\n",
        "\n",
        "include(\"depthdamage.jl\")"
      ],
      "id": "3135cfdc",
      "execution_count": null,
      "outputs": []
    },
    {
      "cell_type": "code",
      "metadata": {},
      "source": [
        "#| output: false\n",
        "include(\"depthdamage.jl\")"
      ],
      "id": "73998618",
      "execution_count": null,
      "outputs": []
    },
    {
      "cell_type": "markdown",
      "metadata": {},
      "source": [
        "# Single Year Function\n"
      ],
      "id": "05d5f223"
    },
    {
      "cell_type": "code",
      "metadata": {},
      "source": [
        "haz_fl_dept = CSV.read(\"data/haz_fl_dept.csv\", DataFrame) # read in the file\n",
        "desc = \"one story, Contents, fresh water, short duration\"\n",
        "row = @rsubset(haz_fl_dept, :Description == desc)[1, :] # select the row I want\n",
        "dd = DepthDamageData(row) # extract the depth-damage data\n",
        "damage_fn = get_depth_damage_function(dd.depths, dd.damages) # get the depth-damage function"
      ],
      "id": "431db312",
      "execution_count": null,
      "outputs": []
    },
    {
      "cell_type": "code",
      "metadata": {},
      "source": [
        "function single_year_cost_benefit(flood_dist, damage_fn, elevation_cost, house_area, house_value, Δh)\n",
        "    \n",
        "    # calculate the expected damages\n",
        "    gauge_dist = GeneralizedExtremeValue(5, 1, 0.1)\n",
        "    offset = 4.31\n",
        "   \n",
        "    house_dist = GeneralizedExtremeValue(gauge_dist.μ - offset, gauge_dist.σ, gauge_dist.ξ)\n",
        "    samples = rand(house_dist, 100_000) .* 1u\"ft\"\n",
        "    \n",
        "    damages = damage_fn.(samples)\n",
        "    expected_damages_pct = mean(damages)\n",
        "        \n",
        "    house_structure_value = 475_000 # estimated value of Katie's Seafood House on Zillow\n",
        "    expected_damages_usd = house_structure_value * expected_damages_pct / 100\n",
        "   \n",
        "    c_dmg = expected_damages_usd\n",
        "\n",
        "    # calculate the cost of elevating\n",
        "    heights = uconvert.(u\"ft\", (0u\"ft\"):(1u\"inch\"):(10u\"ft\")) \n",
        "plot(\n",
        "    heights,\n",
        "    elevation_cost.(heights, house_area);\n",
        "    xlabel=\"How High to Elevate\",\n",
        "    ylabel=\"Cost (USD)\",\n",
        "    label=\"$(house_area)\",\n",
        "    tiitle=\"Cost of Elevating a House\",\n",
        ")\n",
        "    house_area = 1000u\"ft^2\"\n",
        "    elevation_cost = get_elevation_cost_function()\n",
        "    \n",
        "    c_constr = elevation_cost\n",
        "\n",
        "    # return the total cost and benefit\n",
        "    return -c_constr - c_dmg\n",
        "end"
      ],
      "id": "0270f759",
      "execution_count": null,
      "outputs": []
    },
    {
      "cell_type": "markdown",
      "metadata": {},
      "source": [
        "# NPV Function\n"
      ],
      "id": "801959d4"
    },
    {
      "cell_type": "code",
      "metadata": {},
      "source": [
        "function npv_cost_benefit(flood_dist, damage_fn, elevation_cost, house_area, house_value, Δh, T, discount_rate)\n",
        "    # calculate the costs and benefits for each year, and then discount\n",
        "    # see above!\n",
        "    return npv\n",
        "end"
      ],
      "id": "272fbb2b",
      "execution_count": null,
      "outputs": []
    },
    {
      "cell_type": "code",
      "metadata": {},
      "source": [
        "annual_damages = [expected_damages_usd for _ in 1:10] # annual expected damages\n",
        "discount_rate = 0.05\n",
        "npv = sum(annual_damages .* (1 - discount_rate) .^ (0:9))"
      ],
      "id": "7a292b5c",
      "execution_count": null,
      "outputs": []
    },
    {
      "cell_type": "markdown",
      "metadata": {},
      "source": [
        "# One SOW, several actions\n",
        "\n",
        "# Sensitivity test\n",
        "\n",
        "# Discussion\n",
        "1. What do you notice about the NPV for different actions?\n",
        "2. What do you notice about the sensitivity test?\n",
        "3. What are some limitations of this analysis?\n",
        "    * What things are missing from this analysis that you think are important?\n",
        "    * How might they affect the results?\n",
        "    * What are some ways you might address these limitations?"
      ],
      "id": "1c00dfbf"
    }
  ],
  "metadata": {
    "kernelspec": {
      "name": "julia-1.10",
      "language": "julia",
      "display_name": "Julia 1.10.0"
    }
  },
  "nbformat": 4,
  "nbformat_minor": 5
}